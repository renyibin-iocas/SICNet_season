{
 "cells": [
  {
   "cell_type": "markdown",
   "id": "74a34807-e97e-428b-9866-bfccbb442c1b",
   "metadata": {},
   "source": [
    "## load prediction results"
   ]
  },
  {
   "cell_type": "code",
   "execution_count": null,
   "id": "5e085f86-a2af-4376-8f9a-ac3e095b7357",
   "metadata": {},
   "outputs": [],
   "source": [
    "import numpy as np\n",
    "\n",
    "all_y_test = np.load(\"Data/Predicted_SIC.npy\")\n",
    "all_y_pred = np.load(\"Data/Grounded_SIC.npy\")"
   ]
  },
  {
   "cell_type": "code",
   "execution_count": null,
   "id": "10063951-a67e-46d9-af13-8b5c19c484ef",
   "metadata": {},
   "outputs": [],
   "source": [
    "# binary the sic based on the 0.15 threshold\n",
    "\n",
    "all_y_test_binary = all_y_test[all_y_test<0.15] = 0\n",
    "all_y_test_binary = all_y_test[all_y_test>=0.15] = 1\n",
    "\n",
    "all_y_pred_binary = all_y_pred[all_y_pred<0.15] = 0\n",
    "all_y_pred_binary = all_y_pred[all_y_pred>=0.15] = 1"
   ]
  },
  {
   "cell_type": "code",
   "execution_count": 21,
   "id": "b6b6a2a2-ff60-4f90-8990-74ee58036886",
   "metadata": {},
   "outputs": [],
   "source": [
    "all_y_test = np.reshape(all_y_test, (dim0,dim1,dim2,dim3,dim4,dim5))\n",
    "all_y_pred = np.reshape(all_y_pred, (dim0,dim1,dim2,dim3,dim4,dim5))"
   ]
  },
  {
   "cell_type": "code",
   "execution_count": 22,
   "id": "1fc8d7e7-918e-4dab-af9e-0e60e2341eb7",
   "metadata": {},
   "outputs": [],
   "source": [
    "# calculate the sie\n",
    "all_y_test_SIE = np.sum(all_y_pred_binary, axis = (-2,-1)) # the axis depends on your array shape\n",
    "all_y_pred_SIE = np.sum(all_y_pred_binary, axis = (-2,-1)) # the axis depends on your array shape"
   ]
  },
  {
   "cell_type": "markdown",
   "id": "1248952d-8eaa-452c-8302-a056728d453f",
   "metadata": {},
   "source": [
    "## calculate mean and anomaly"
   ]
  },
  {
   "cell_type": "code",
   "execution_count": 38,
   "id": "a8072288-98af-41b9-a825-743a80e8fde6",
   "metadata": {},
   "outputs": [],
   "source": [
    "y_test_SIE_mean = np.mean(all_y_test_SIE, axis = 1)\n",
    "y_pred_SIE_mean = np.mean(all_y_pred_SIE, axis = 1)"
   ]
  },
  {
   "cell_type": "code",
   "execution_count": 39,
   "id": "7f190faf-80fa-46d2-93d1-bb171016c96d",
   "metadata": {},
   "outputs": [],
   "source": [
    "y_test_SIE_mean = np.expand_dims(y_test_SIE_mean, axis = 0)\n",
    "y_pred_SIE_mean = np.expand_dims(y_pred_SIE_mean, axis = 0)"
   ]
  },
  {
   "cell_type": "code",
   "execution_count": 41,
   "id": "58b6aeac-fc29-4d58-bd2c-4939ae5442bf",
   "metadata": {},
   "outputs": [],
   "source": [
    "y_test_SIE_anom = all_y_test_SIE - y_test_SIE_mean\n",
    "y_pred_SIE_anom = all_y_pred_SIE - y_pred_SIE_mean"
   ]
  },
  {
   "cell_type": "markdown",
   "id": "a14cd4d0-e345-4371-a60a-e5e4da6c4b15",
   "metadata": {},
   "source": [
    "## detrend"
   ]
  },
  {
   "cell_type": "code",
   "execution_count": 45,
   "id": "6464f0c5-370c-4d70-bb83-74530b9dd332",
   "metadata": {},
   "outputs": [],
   "source": [
    "from scipy import signal\n",
    "\n",
    "x = y_pred_SIE_anom.shape[1]\n",
    "y = y_pred_SIE_anom.shape[2]\n",
    "z = y_pred_SIE_anom.shape[3]\n",
    "\n",
    "y_pred_SIE_anom_dtrend = signal.detrend(all_y_pred_SIE, axis=1, type='linear', bp=0, overwrite_data=False)\n",
    "y_test_SIE_anom_dtrend = signal.detrend(all_y_test_SIE, axis=1, type='linear', bp=0, overwrite_data=False)\n"
   ]
  },
  {
   "cell_type": "code",
   "execution_count": 46,
   "id": "8ef2a77e-17da-4485-a513-3a127562d3ff",
   "metadata": {},
   "outputs": [],
   "source": [
    "y_pred_SIE_anom = y_pred_SIE_anom_dtrend\n",
    "y_test_SIE_anom = y_test_SIE_anom_dtrend"
   ]
  },
  {
   "cell_type": "code",
   "execution_count": 48,
   "id": "43fbe8e0-7994-4394-a1aa-4485ab0efcd6",
   "metadata": {},
   "outputs": [],
   "source": [
    "# activate regions for calculating BACC\n",
    "activate_regions = np.load(\"Data/Activate_regions_monthly.npy\")\n",
    "\n",
    "# calculating the BACC\n",
    "def Calculate_BACC(y_ground, y_pred):\n",
    "    \n",
    "    year_numb = y_ground.shape[0]\n",
    "    month_ver = y_ground.shape[1]\n",
    "    leadt_hor = y_ground.shape[4]\n",
    "    \n",
    "    all_bacc_matrix = np.zeros((year_numb, month_ver,leadt_hor),dtype=np.float64)\n",
    "    \n",
    "    cur_predit_sic = copy.deepcopy(y_pred)\n",
    "    cur_ground_sic = copy.deepcopy(y_ground)\n",
    "    \n",
    "    cur_predit_sic[cur_predit_sic>0.15] = 1\n",
    "    cur_ground_sic[cur_ground_sic>0.15] = 1\n",
    "    \n",
    "    cur_predit_sic[cur_predit_sic<=0.15] = 0\n",
    "    cur_ground_sic[cur_ground_sic<=0.15] = 0\n",
    "   \n",
    "    for y in range(year_numb):\n",
    "\n",
    "        for v in range(month_ver):\n",
    "        \n",
    "            for i in range(leadt_hor): \n",
    "                \n",
    "                cur_pred_sie = cur_predit_sic[y,v,:,:,i]\n",
    "                cur_true_sie = cur_ground_sic[y,v,:,:,i]\n",
    "                \n",
    "                cur_iiee = np.sum(np.abs(cur_pred_sie-cur_true_sie))\n",
    "                cur_bacc = 1-cur_iiee/activate_regions[v]\n",
    "                \n",
    "                all_bacc_matrix [y,v,i] = cur_bacc\n",
    "                \n",
    "    return all_bacc_matrix\n",
    "\n",
    "def calculate_acc_SIE(ground_anomly_self, predict_anomly_self):\n",
    "    \n",
    "    all_person_cf = []\n",
    "    all_person_cf_p = []\n",
    "    all_person_cf_p_self = []\n",
    "    \n",
    "    row_n = ground_anomly_self.shape[-2]\n",
    "    col_n = ground_anomly_self.shape[-1]\n",
    "    \n",
    "    cur_per = np.zeros((row_n,col_n),dtype=np.float64)\n",
    "   \n",
    "    for j in range(row_n):\n",
    "            for k in range(col_n):\n",
    "                cur_ground_self = ground_anomly_self[:,j,k]\n",
    "                cur_predict_self = predict_anomly_self[:,j,k]\n",
    "                    \n",
    "                cur_ground_self = np.asarray(cur_ground_self).flatten()\n",
    "                cur_predict_self = np.asarray(cur_predict_self).flatten()\n",
    "                    \n",
    "                person_self = stats.pearsonr(cur_predict_self, cur_ground_self)\n",
    "                cur_per[j,k] = person_self[0]\n",
    "                \n",
    "    return  np.array(cur_per)"
   ]
  },
  {
   "cell_type": "code",
   "execution_count": null,
   "id": "569da03d-8417-49bb-a291-654b51e4e7a9",
   "metadata": {},
   "outputs": [],
   "source": [
    "# calculate metrics\n",
    "\n",
    "cur_bacc_matrix = Calculate_BACC(all_y_test, all_y_pred)\n",
    "cur_acc_sie_i = calculate_acc_SIE(y_test_SIE_anom, y_pred_SIE_anom)"
   ]
  },
  {
   "cell_type": "markdown",
   "id": "ff143bd3-fde1-4dda-8461-e5408a229d24",
   "metadata": {},
   "source": [
    "## draw the results"
   ]
  },
  {
   "cell_type": "code",
   "execution_count": null,
   "id": "c75a07bc-bb1b-4f88-81e6-99195885ec6b",
   "metadata": {},
   "outputs": [],
   "source": [
    "import seaborn as sns\n",
    "import pandas as pd\n",
    "columns_lst = range(1,y_length+1)\n",
    "row_index = range(1,biweek_per_year+1)\n",
    "cur_acc_sie_i = np.round(cur_acc_sie_i*100, 2)\n",
    "df = pd.DataFrame(data = cur_acc_sie_i, index = row_index, columns = columns_lst)\n",
    "#fig, ax_arr = plt.subplots(1,1, figsize=(4,8.5))\n",
    "sns.set_context({\"figure.figsize\":(8,8)})\n",
    "ax = sns.heatmap(df, vmin = 0, vmax = 80, cmap = 'RdBu_r', annot=True, fmt=\".2f\", annot_kws={\"size\":13})"
   ]
  },
  {
   "cell_type": "code",
   "execution_count": null,
   "id": "a244971a-6ffd-4042-a73e-4380f37a8ecb",
   "metadata": {},
   "outputs": [],
   "source": [
    "import seaborn as sns\n",
    "import pandas as pd\n",
    "\n",
    "columns_lst = range(1,y_length+1)\n",
    "row_index = range(1,biweek_per_year+1)\n",
    "cur_bacc_matrix = np.round(cur_bacc_matrix*100, 2)\n",
    "df = pd.DataFrame(data = cur_bacc_matrix, index = row_index, columns = columns_lst)\n",
    "sns.set_context({\"figure.figsize\":(8,8)})\n",
    "ax = sns.heatmap(df, vmin = 80, vmax = 100, cmap = 'RdBu_r', annot=True, fmt=\".2f\", annot_kws={\"size\":13})"
   ]
  },
  {
   "cell_type": "code",
   "execution_count": null,
   "id": "b9672897-f3c1-4ec1-813e-e8dcc494839d",
   "metadata": {},
   "outputs": [],
   "source": []
  },
  {
   "cell_type": "code",
   "execution_count": null,
   "id": "00ae21e5-d7c9-4d11-a57f-a0ea4998158b",
   "metadata": {},
   "outputs": [],
   "source": []
  }
 ],
 "metadata": {
  "kernelspec": {
   "display_name": "Python 3 (ipykernel)",
   "language": "python",
   "name": "python3"
  },
  "language_info": {
   "codemirror_mode": {
    "name": "ipython",
    "version": 3
   },
   "file_extension": ".py",
   "mimetype": "text/x-python",
   "name": "python",
   "nbconvert_exporter": "python",
   "pygments_lexer": "ipython3",
   "version": "3.9.5"
  }
 },
 "nbformat": 4,
 "nbformat_minor": 5
}
